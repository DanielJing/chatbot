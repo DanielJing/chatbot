{
  "nbformat": 4,
  "nbformat_minor": 0,
  "metadata": {
    "colab": {
      "name": "chatbot.ipynb",
      "provenance": []
    },
    "kernelspec": {
      "name": "python3",
      "display_name": "Python 3"
    }
  },
  "cells": [
    {
      "cell_type": "markdown",
      "metadata": {
        "id": "d9qgx3dq_Qe2",
        "colab_type": "text"
      },
      "source": [
        "# A chat bot program"
      ]
    },
    {
      "cell_type": "code",
      "metadata": {
        "id": "5zP55gIH_d2W",
        "colab_type": "code",
        "colab": {}
      },
      "source": [
        "# Importing the library\n",
        "from nltk.chat.util import Chat, reflections"
      ],
      "execution_count": 0,
      "outputs": []
    },
    {
      "cell_type": "code",
      "metadata": {
        "id": "o5VDZAJlCYys",
        "colab_type": "code",
        "colab": {}
      },
      "source": [
        "pairs = [\n",
        "         ['my name is (.*)', ['hi, %1']],\n",
        "         ['how are you?', [\"I'm good, and you?\", \"I'm great, and you?\"]],\n",
        "         ['(.*)is fun', ['indeed, %1 is fun']],\n",
        "         ['(.*)loves(.*) and (.*)', ['yes, %1does love %2 and %3']]\n",
        "         ]"
      ],
      "execution_count": 0,
      "outputs": []
    },
    {
      "cell_type": "code",
      "metadata": {
        "id": "6zwo51YJEBOg",
        "colab_type": "code",
        "colab": {
          "base_uri": "https://localhost:8080/",
          "height": 172
        },
        "outputId": "cda675bf-8fc7-471d-e3a5-dfa2f580f2f6"
      },
      "source": [
        "chat = Chat(pairs, reflections)\n",
        "chat.converse()"
      ],
      "execution_count": 0,
      "outputs": [
        {
          "output_type": "stream",
          "text": [
            ">my name is joe\n",
            "hi, joe\n",
            ">how are you\n",
            "I'm good, and you?\n",
            ">Florida is fun\n",
            "indeed, florida  is fun\n",
            ">john loves base ball and basketball\n",
            "yes, john does love  base ball and basketball\n"
          ],
          "name": "stdout"
        }
      ]
    },
    {
      "cell_type": "code",
      "metadata": {
        "id": "r2j2S7BWGICo",
        "colab_type": "code",
        "colab": {}
      },
      "source": [
        ""
      ],
      "execution_count": 0,
      "outputs": []
    }
  ]
}